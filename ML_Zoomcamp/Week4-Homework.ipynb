{
 "cells": [
  {
   "cell_type": "code",
   "execution_count": 42,
   "metadata": {},
   "outputs": [],
   "source": [
    "import pandas as pd\n",
    "import numpy as np\n",
    "from sklearn.model_selection import train_test_split, KFold\n",
    "from sklearn.feature_extraction import DictVectorizer\n",
    "from sklearn.linear_model import LogisticRegression\n",
    "from sklearn.metrics import accuracy_score, auc, roc_auc_score, roc_curve\n",
    "from sklearn.metrics import auc\n",
    "\n",
    "data = pd.read_csv(\"https://raw.githubusercontent.com/alexeygrigorev/mlbookcamp-code/master/chapter-02-car-price/data.csv\")"
   ]
  },
  {
   "cell_type": "markdown",
   "metadata": {},
   "source": [
    "### Data preparation"
   ]
  },
  {
   "cell_type": "code",
   "execution_count": 43,
   "metadata": {},
   "outputs": [],
   "source": [
    "data = data[['Make',\n",
    "'Model',\n",
    "'Year',\n",
    "'Engine HP',\n",
    "'Engine Cylinders',\n",
    "'Transmission Type',\n",
    "'Vehicle Style',\n",
    "'highway MPG',\n",
    "'city mpg',\n",
    "'MSRP']]\n",
    "\n",
    "data.columns = data.columns.str.replace(' ', '_').str.lower()\n",
    "data.fillna(0, inplace=True)\n",
    "\n",
    "round(data['msrp'].mean())\n",
    "data['above_average'] = (data['msrp'] > data['msrp'].mean()).astype(int)\n",
    "data.drop('msrp', axis=1, inplace=True)\n"
   ]
  },
  {
   "cell_type": "code",
   "execution_count": 55,
   "metadata": {},
   "outputs": [],
   "source": [
    "numerik = [\n",
    "    'year',\n",
    "    'engine_hp',\n",
    "    'engine_cylinders',\n",
    "    'highway_mpg',\n",
    "    'city_mpg',\n",
    "]\n",
    "kategorik = [\n",
    "    'make',\n",
    "    'model',\n",
    "    'transmission_type',\n",
    "    'vehicle_style'\n",
    "]\n",
    "train_numerik = [\n",
    "    'year',\n",
    "    'engine_hp',\n",
    "    'engine_cylinders',\n",
    "    'highway_mpg',\n",
    "    'city_mpg',\n",
    "]"
   ]
  },
  {
   "cell_type": "code",
   "execution_count": 52,
   "metadata": {},
   "outputs": [],
   "source": [
    "full_train, data_test = train_test_split(data, test_size=0.2, random_state=1)\n",
    "data_train, data_val = train_test_split(full_train, test_size=0.25, random_state=1)\n",
    "\n",
    "\n",
    "data_train.reset_index(drop=True, inplace=True)\n",
    "data_test.reset_index(drop=True, inplace=True)\n",
    "data_val.reset_index(drop=True, inplace=True)\n",
    "\n",
    "\n",
    "y_train = data_train['above_average'].values\n",
    "y_test = data_test['above_average'].values\n",
    "y_val = data_val['above_average'].values\n"
   ]
  },
  {
   "cell_type": "code",
   "execution_count": 63,
   "metadata": {},
   "outputs": [
    {
     "name": "stdout",
     "output_type": "stream",
     "text": [
      "Year's ROC AUC score is :  0.687551492804683\n",
      "Engine HP's ROC AUC score is :  0.9171031265539011\n",
      "Engine Cylinder's ROC AUC score is :  0.766116490165669\n",
      "Highway MPG's ROC AUC score is :  0.3669412128227987\n",
      "City MPG's ROC AUC score is :  0.3265755356754767\n"
     ]
    }
   ],
   "source": [
    "print(\"Year's ROC AUC score is : \", roc_auc_score(data_train['above_average'], data_train['year']))\n",
    "print(\"Engine HP's ROC AUC score is : \", roc_auc_score(data_train['above_average'], data_train['engine_hp']))\n",
    "print(\"Engine Cylinder's ROC AUC score is : \", roc_auc_score(data_train['above_average'], data_train['engine_cylinders']))\n",
    "print(\"Highway MPG's ROC AUC score is : \", roc_auc_score(data_train['above_average'], data_train['highway_mpg']))\n",
    "print(\"City MPG's ROC AUC score is : \", roc_auc_score(data_train['above_average'], data_train['city_mpg']))"
   ]
  },
  {
   "cell_type": "code",
   "execution_count": null,
   "metadata": {},
   "outputs": [],
   "source": []
  }
 ],
 "metadata": {
  "kernelspec": {
   "display_name": "tf-gpu",
   "language": "python",
   "name": "python3"
  },
  "language_info": {
   "codemirror_mode": {
    "name": "ipython",
    "version": 3
   },
   "file_extension": ".py",
   "mimetype": "text/x-python",
   "name": "python",
   "nbconvert_exporter": "python",
   "pygments_lexer": "ipython3",
   "version": "3.9.15"
  },
  "orig_nbformat": 4
 },
 "nbformat": 4,
 "nbformat_minor": 2
}
